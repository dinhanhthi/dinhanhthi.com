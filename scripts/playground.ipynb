{
 "cells": [
  {
   "cell_type": "code",
   "execution_count": 1,
   "metadata": {},
   "outputs": [],
   "source": [
    "import shutil\n",
    "import sys\n",
    "import os\n",
    "from helper import *"
   ]
  },
  {
   "cell_type": "code",
   "execution_count": 2,
   "metadata": {},
   "outputs": [
    {
     "data": {
      "text/plain": [
       "['for-me-only',\n",
       " 'my-reading-list',\n",
       " 'all-in-one-aio-components',\n",
       " 'small-projects-to-understand-concepts',\n",
       " 'data-ml-tools-resources',\n",
       " 'tensorflow',\n",
       " 'time-series-tips',\n",
       " 'docker',\n",
       " '#algorithm-1',\n",
       " '#rubik',\n",
       " '#r-installation',\n",
       " 'python-installation',\n",
       " 'p-value',\n",
       " 'js-tips',\n",
       " '11ty-nunjucks',\n",
       " 'angular-1-basics-components-databinding-directives',\n",
       " 'google-dialogflow-api']"
      ]
     },
     "execution_count": 2,
     "metadata": {},
     "output_type": "execute_result"
    }
   ],
   "source": [
    "list_sample_files"
   ]
  },
  {
   "cell_type": "code",
   "execution_count": 9,
   "metadata": {},
   "outputs": [
    {
     "data": {
      "text/plain": [
       "['ydkjsy-1', 'gatsby-js', 'github', 'google-oauth2-api']"
      ]
     },
     "execution_count": 9,
     "metadata": {},
     "output_type": "execute_result"
    }
   ],
   "source": [
    "lst_notes_in_samples\n",
    "lst_notes_in_samples_in_short = [file[11:file.rfind(\".\")] for file in lst_notes_in_samples]\n",
    "lst_notes_in_samples_in_short"
   ]
  },
  {
   "cell_type": "code",
   "execution_count": 18,
   "metadata": {},
   "outputs": [],
   "source": [
    "lst_of_files_in_notes = []\n",
    "for root, _, files in os.walk(notes_full_path):\n",
    "  lst_of_files_in_notes += files\n",
    "\n",
    "lst_of_notes_in_notes = [file for file in lst_of_files_in_notes if file.endswith(\".md\") or file.endswith(\".njk\")]\n",
    "lst_of_notes_in_notes_in_short = [file[11:file.rfind(\".\")] for file in lst_of_notes_in_notes]\n",
    "# lst_of_notes_in_notes_in_short"
   ]
  },
  {
   "cell_type": "code",
   "execution_count": 20,
   "metadata": {},
   "outputs": [
    {
     "data": {
      "text/plain": [
       "['github', 'google-oauth2-api']"
      ]
     },
     "execution_count": 20,
     "metadata": {},
     "output_type": "execute_result"
    }
   ],
   "source": [
    "notes_moved_to_samples = [file for file in lst_notes_in_samples_in_short if file not in lst_of_notes_in_notes_in_short]\n",
    "notes_moved_to_samples"
   ]
  },
  {
   "cell_type": "code",
   "execution_count": 14,
   "metadata": {},
   "outputs": [
    {
     "data": {
      "text/plain": [
       "[1, 2, 3, 4]"
      ]
     },
     "execution_count": 14,
     "metadata": {},
     "output_type": "execute_result"
    }
   ],
   "source": [
    "a=[1,2]\n",
    "b=[3,4]\n",
    "c=a+b\n",
    "c"
   ]
  },
  {
   "cell_type": "code",
   "execution_count": null,
   "metadata": {},
   "outputs": [],
   "source": []
  },
  {
   "cell_type": "code",
   "execution_count": 4,
   "metadata": {},
   "outputs": [
    {
     "data": {
      "text/plain": [
       "'/Users/thi/git/dinhanhthi.com/pages'"
      ]
     },
     "execution_count": 4,
     "metadata": {},
     "output_type": "execute_result"
    }
   ],
   "source": [
    "# shutil.move(dat_dir + \"/pages\", note_mode_full_path + \"/\")\n",
    "shutil.move(note_mode_full_path + \"/pages\", dat_dir + \"/\")"
   ]
  },
  {
   "cell_type": "code",
   "execution_count": 1,
   "metadata": {},
   "outputs": [],
   "source": [
    "# try to replace text in a file\n",
    "f1  = open(\"2021-10-29-ydkjsy-1.md\", \"r\")\n",
    "f2  = open(\"2021-10-29-ydkjsy-1-edited.md\", \"w\")\n",
    "for line in f1:\n",
    "    f2.write(line.replace(\"/Users/thi/git/dinhanhthi.com/notes/img_tmp/\", \"{{ img-url }}\"))\n",
    "f1.close()\n",
    "f2.close()"
   ]
  },
  {
   "cell_type": "code",
   "execution_count": null,
   "metadata": {},
   "outputs": [],
   "source": [
    "# Read in the file\n",
    "with open('file.txt', 'r') as file :\n",
    "  filedata = file.read()\n",
    "\n",
    "# Replace the target string\n",
    "filedata = filedata.replace('ram', 'abcd')\n",
    "\n",
    "# Write the file out again\n",
    "with open('file.txt', 'w') as file:\n",
    "  file.write(filedata)"
   ]
  },
  {
   "cell_type": "code",
   "execution_count": 19,
   "metadata": {},
   "outputs": [
    {
     "name": "stdout",
     "output_type": "stream",
     "text": [
      "2020-10-14-deeplearning-ai-tensorflow-course-4.md\n"
     ]
    }
   ],
   "source": [
    "# file_name = 'my-reading-list'\n",
    "file_name = 'deeplearning-ai-tensorflow-course-4'\n",
    "for root, _, files in os.walk(notes_full_path):\n",
    "    for name in files:\n",
    "        if name.find(file_name) != -1  and name[11:name.rfind(\".\")] not in list_sample_files:\n",
    "            print(name)"
   ]
  },
  {
   "cell_type": "code",
   "execution_count": null,
   "metadata": {},
   "outputs": [],
   "source": [
    "def to_notes(file_name=\"all\"):\n",
    "    \"\"\"Move files that are not in list_sample_posts.txt from sample_posts/ to notes/posts/\n",
    "    HOW TO USE?\n",
    "        cd ..\n",
    "        - Move all files:\n",
    "            python scripts/to_notes.py all\n",
    "        - Move a single file:\n",
    "            python scripts/to_notes.py docker-gpu\n",
    "    \"\"\"\n",
    "\n",
    "    if file_name == \"all\":\n",
    "        for file in list_files_samples:\n",
    "            if file not in list_files_samples:\n",
    "                shutil.move(sample_full_path + \"/\" + file, notes_full_path)\n",
    "    else:\n",
    "        # full_name = get_full_name(file_name.strip(), list_files_samples)\n",
    "        # shutil.move(sample_full_path + \"/\" + file_name, notes_full_path)\n",
    "        pass"
   ]
  },
  {
   "cell_type": "code",
   "execution_count": 12,
   "metadata": {},
   "outputs": [
    {
     "name": "stdout",
     "output_type": "stream",
     "text": [
      "Success\n"
     ]
    }
   ],
   "source": [
    "import shutil\n",
    "src_path = \"/Users/thi/Downloads/a\"\n",
    "dst_path = \"/Users/thi/Downloads/b\"\n",
    "try: \n",
    "  rst = shutil.copy(src_path + '/' + 'x.pdf', dst_path + '/' + 'x.pdf')\n",
    "#   rst = shutil.move(src_path + '/' + 'x.pdf', dst_path + '/' + 'x.pdf')\n",
    "  if rst:\n",
    "      print(\"Success\")\n",
    "except Exception as e:\n",
    "  pass"
   ]
  },
  {
   "cell_type": "code",
   "execution_count": 9,
   "metadata": {},
   "outputs": [
    {
     "name": "stdout",
     "output_type": "stream",
     "text": [
      "google-oauth-2.0-nodejs\n"
     ]
    }
   ],
   "source": [
    "for file in lst_notes_in_samples:\n",
    "    # print(file)\n",
    "    print(file[11:a.rfind('.')])"
   ]
  },
  {
   "cell_type": "code",
   "execution_count": 8,
   "metadata": {},
   "outputs": [
    {
     "data": {
      "text/plain": [
       "'google-oauth-2.0-nodejs'"
      ]
     },
     "execution_count": 8,
     "metadata": {},
     "output_type": "execute_result"
    }
   ],
   "source": [
    "a = '2021-10-28-google-oauth-2.0-nodejs.md'\n",
    "a[11:a.rfind('.')]"
   ]
  },
  {
   "cell_type": "code",
   "execution_count": 23,
   "metadata": {},
   "outputs": [
    {
     "data": {
      "text/plain": [
       "['2021-10-28-google-oauth-2.0-nodejs.md',\n",
       " '2020-04-04-deeplearning-ai-course-1.md',\n",
       " '2020-03-03-pytorch.md',\n",
       " '2020-10-22-docker-gpu.md']"
      ]
     },
     "execution_count": 23,
     "metadata": {},
     "output_type": "execute_result"
    }
   ],
   "source": [
    "file_name = 'pytorch'\n",
    "# full_name = get_full_name(line.strip(), list_files_samples)\n",
    "with open(file_list_txt) as f:\n",
    "    data = f.read()\n",
    "list_sample_files = data.split('\\n')\n",
    "# data\n",
    "lst_files_in_samples = os.listdir(sample_full_path)\n",
    "lst_notes_in_samples = [file for file in lst_files_in_samples if file.endswith('.md') or file.endswith('.njk')]\n",
    "lst_notes_in_samples = [file for file in lst_notes_in_samples if file[11:].split(\".\")[0] not in list_sample_files]\n",
    "lst_notes_in_samples"
   ]
  },
  {
   "cell_type": "code",
   "execution_count": 10,
   "metadata": {},
   "outputs": [],
   "source": [
    "def get_file_info_notes(file_name, notes_path_full):\n",
    "  \"\"\"Find the path in notes/posts/ of the given file.\n",
    "     Note that, this file is currently in sample_posts/\n",
    "  \"\"\"\n",
    "  for root, _, files in os.walk(notes_path_full):\n",
    "      for name in files:\n",
    "          if (name.endswith(\".md\") or name.endswith(\".njk\")) and name.find(file_name) != -1:\n",
    "              file_full_name = name\n",
    "              file_full_dir = root\n",
    "              file_full_path = os.path.abspath(os.path.join(root, name))\n",
    "              return file_full_name, file_full_dir, file_full_path"
   ]
  },
  {
   "cell_type": "code",
   "execution_count": 11,
   "metadata": {},
   "outputs": [
    {
     "name": "stdout",
     "output_type": "stream",
     "text": [
      "file_full_name:  2020-03-03-pytorch.md\n",
      "file_full_dir:  /Users/thi/git/dinhanhthi.com/notes/posts/deep-learning\n",
      "file_full_path:  /Users/thi/git/dinhanhthi.com/notes/posts/deep-learning/2020-03-03-pytorch.md\n"
     ]
    }
   ],
   "source": [
    "file_name = 'pytorch'\n",
    "file_full_name, file_full_dir, file_full_path = get_file_info_notes(file_name, notes_full_path)\n",
    "print(\"file_full_name: \", file_full_name)\n",
    "print(\"file_full_dir: \", file_full_dir)\n",
    "print(\"file_full_path: \", file_full_path)"
   ]
  },
  {
   "cell_type": "code",
   "execution_count": null,
   "metadata": {},
   "outputs": [],
   "source": []
  },
  {
   "cell_type": "code",
   "execution_count": null,
   "metadata": {},
   "outputs": [],
   "source": []
  },
  {
   "cell_type": "code",
   "execution_count": null,
   "metadata": {},
   "outputs": [],
   "source": []
  },
  {
   "cell_type": "code",
   "execution_count": null,
   "metadata": {},
   "outputs": [],
   "source": []
  },
  {
   "cell_type": "code",
   "execution_count": null,
   "metadata": {},
   "outputs": [],
   "source": []
  },
  {
   "cell_type": "code",
   "execution_count": 53,
   "metadata": {},
   "outputs": [],
   "source": [
    "import os\n",
    "import shutil\n",
    "# pyright: reportMissingImports=false\n",
    "import frontmatter\n",
    "from pathlib import Path"
   ]
  },
  {
   "cell_type": "code",
   "execution_count": 95,
   "metadata": {},
   "outputs": [],
   "source": [
    "curdir  = Path(os.getcwd()) # requires python >= 3.4\n",
    "dat_dir = str(curdir.parent.absolute())\n",
    "sample_dir = '/sample_posts'\n",
    "notes_dir = '/notes/posts'\n",
    "sample_full_path = dat_dir + sample_dir\n",
    "notes_full_path = dat_dir + notes_dir\n",
    "file_list_txt = os.getcwd() + '/list_sample_posts.txt'\n",
    "categories_file = os.getcwd() + '/categories.json'"
   ]
  },
  {
   "cell_type": "code",
   "execution_count": 96,
   "metadata": {},
   "outputs": [
    {
     "data": {
      "text/plain": [
       "{'Project-based Learning': 'project',\n",
       " 'MOOC': 'mooc',\n",
       " 'Machine Learning': 'ml',\n",
       " 'Data Science': 'data-science',\n",
       " 'Deep Learning': 'deep-learning',\n",
       " 'Time Series': 'time-series',\n",
       " 'NLP': 'nlp',\n",
       " 'MLOps': 'mlops',\n",
       " 'Python': 'python',\n",
       " 'R Lang': 'r',\n",
       " 'Prob & Stats': 'stats',\n",
       " 'Angular': 'angular',\n",
       " 'JavaScript': 'js',\n",
       " 'Web Dev': 'web-dev',\n",
       " 'API': 'api',\n",
       " 'Algorithms': 'algorithms',\n",
       " 'Skills': 'skills',\n",
       " 'Gaming & Puzzles': 'gaming',\n",
       " 'Others': 'others'}"
      ]
     },
     "execution_count": 96,
     "metadata": {},
     "output_type": "execute_result"
    }
   ],
   "source": [
    "with open(categories_file) as f:\n",
    "    data = f.read()\n",
    "categories = json.loads(data)\n",
    "categories"
   ]
  },
  {
   "cell_type": "code",
   "execution_count": 91,
   "metadata": {},
   "outputs": [
    {
     "data": {
      "text/plain": [
       "['2021-10-28-google-oauth-2.0-nodejs.md',\n",
       " '2020-03-09-algorithm-1.md',\n",
       " '2020-04-15-p-value.md',\n",
       " '.DS_Store',\n",
       " '2021-01-15-data-ml-tools-resources.md',\n",
       " '2020-07-30-r-installation.md',\n",
       " '2020-03-09-docker.md',\n",
       " 'sample_posts.json',\n",
       " '2019-10-31-small-projects-to-understand-concepts.md',\n",
       " '2021-06-09-rubik.md',\n",
       " '2020-12-03-my-reading-list.njk',\n",
       " '2020-10-21-tensorflow.md',\n",
       " '2021-03-04-angular-1-basics-components-databinding-directives.md',\n",
       " '2021-10-05-all-in-one-aio-components.md',\n",
       " '2021-10-16-11ty-nunjucks.md',\n",
       " '2020-10-22-docker-gpu.md',\n",
       " '2021-10-03-python-installation.md',\n",
       " '2020-03-10-time-series-tips.md',\n",
       " '2021-09-03-js-tips.md',\n",
       " '2020-11-24-for-me-only.md']"
      ]
     },
     "execution_count": 91,
     "metadata": {},
     "output_type": "execute_result"
    }
   ],
   "source": [
    "list_files_samples = os.listdir(sample_full_path)\n",
    "list_files_samples"
   ]
  },
  {
   "cell_type": "code",
   "execution_count": 97,
   "metadata": {},
   "outputs": [],
   "source": [
    "def get_full_name(line, list_files):\n",
    "    for file in list_files:\n",
    "        if (line + '.md' in file) or (line + '.njk' in file):\n",
    "            return file"
   ]
  },
  {
   "cell_type": "code",
   "execution_count": 98,
   "metadata": {},
   "outputs": [
    {
     "name": "stdout",
     "output_type": "stream",
     "text": [
      "2020-11-24-for-me-only.md\n",
      "2020-12-03-my-reading-list.njk\n",
      "2021-10-05-all-in-one-aio-components.md\n",
      "2019-10-31-small-projects-to-understand-concepts.md\n",
      "2021-01-15-data-ml-tools-resources.md\n",
      "2020-10-21-tensorflow.md\n",
      "2020-03-10-time-series-tips.md\n",
      "2020-03-09-docker.md\n",
      "2020-03-09-algorithm-1.md\n",
      "2021-06-09-rubik.md\n",
      "2020-07-30-r-installation.md\n",
      "2021-10-03-python-installation.md\n",
      "2020-04-15-p-value.md\n",
      "2021-09-03-js-tips.md\n",
      "2021-10-16-11ty-nunjucks.md\n",
      "2021-03-04-angular-1-basics-components-databinding-directives.md\n"
     ]
    }
   ],
   "source": [
    "with open(file_list_txt) as f_input:\n",
    "    for line in f_input:\n",
    "        if (not line.startswith('#')):\n",
    "            full_name = get_full_name(line.strip(), list_files_samples)\n",
    "            print(full_name)"
   ]
  },
  {
   "cell_type": "code",
   "execution_count": 100,
   "metadata": {},
   "outputs": [
    {
     "data": {
      "text/plain": [
       "'project'"
      ]
     },
     "execution_count": 100,
     "metadata": {},
     "output_type": "execute_result"
    }
   ],
   "source": [
    "def get_parent_folder(file_name, full_path, categories):\n",
    "    post = frontmatter.load(full_path + '/' + file_name)\n",
    "    return categories[post['tags'][0]]\n",
    "\n",
    "get_parent_folder('2019-10-31-small-projects-to-understand-concepts.md', sample_full_path, categories)"
   ]
  },
  {
   "cell_type": "code",
   "execution_count": 102,
   "metadata": {},
   "outputs": [
    {
     "name": "stdout",
     "output_type": "stream",
     "text": [
      "/Users/thi/git/dinhanhthi.com/sample_posts/2020-11-24-for-me-only.md\n",
      "/Users/thi/git/dinhanhthi.com/notes/postsothers/2020-11-24-for-me-only.md\n",
      "✅  /sample_posts2020-11-24-for-me-only.md 👉 /notes/postsothers/\n"
     ]
    }
   ],
   "source": [
    "with open(file_list_txt) as f_input:\n",
    "    for line in f_input:\n",
    "        if (not line.startswith('#')):\n",
    "            if (not line.startswith('#')):\n",
    "                full_name = get_full_name(line.strip(), list_files_samples)\n",
    "                if full_name:\n",
    "                    father_folder = get_parent_folder(full_name, sample_full_path, categories)\n",
    "                    srcfile = sample_full_path + '/' + full_name\n",
    "                    dstfile = notes_full_path + father_folder + '/' + full_name\n",
    "                    print(srcfile)\n",
    "                    print(dstfile)\n",
    "                    # shutil.copy(srcfile, dstfile)\n",
    "                    print('✅  ' + sample_dir + full_name + ' 👉 ' + notes_dir + father_folder + '/')\n",
    "                    break"
   ]
  },
  {
   "cell_type": "code",
   "execution_count": 73,
   "metadata": {},
   "outputs": [
    {
     "name": "stdout",
     "output_type": "stream",
     "text": [
      "{'Project-based Learning': 'project', 'MOOC': 'mooc', 'Machine Learning': 'ml', 'Data Science': 'data-science', 'Deep Learning': 'deep-learning', 'Time Series': 'time-series', 'NLP': 'nlp', 'MLOps': 'mlops', 'Python': 'python', 'R Lang': 'r', 'Prob & Stats': 'stats', 'Angular': 'angular', 'JavaScript': 'js', 'Web Dev': 'web-dev', 'API': 'api', 'Algorithms': 'algorithms', 'Skills': 'skills', 'Gaming & Puzzles': 'gaming', 'Others': 'others'}\n"
     ]
    }
   ],
   "source": [
    "import json\n",
    "with open(categories_file) as f:\n",
    "    data = f.read()\n",
    "js = json.loads(data)\n",
    "print(js)"
   ]
  },
  {
   "cell_type": "code",
   "execution_count": 84,
   "metadata": {},
   "outputs": [
    {
     "name": "stdout",
     "output_type": "stream",
     "text": [
      "/Users/thi/git/dinhanhthi.com\n"
     ]
    }
   ],
   "source": [
    "from pathlib import Path\n",
    "curdir  = Path(os.getcwd())\n",
    "dat_dir = str(curdir.parent.absolute())\n",
    "# type(dat_dir)\n",
    "print(dat_dir)"
   ]
  },
  {
   "cell_type": "code",
   "execution_count": null,
   "metadata": {},
   "outputs": [],
   "source": []
  }
 ],
 "metadata": {
  "interpreter": {
   "hash": "8a1162f3c44ee73fdd6b389e4ac800d54d3cba01b8ba8b4fc791d2e106c6f7ab"
  },
  "kernelspec": {
   "display_name": "Python 3.9.1 64-bit (conda)",
   "name": "python3"
  },
  "language_info": {
   "codemirror_mode": {
    "name": "ipython",
    "version": 3
   },
   "file_extension": ".py",
   "mimetype": "text/x-python",
   "name": "python",
   "nbconvert_exporter": "python",
   "pygments_lexer": "ipython3",
   "version": "3.9.1"
  },
  "orig_nbformat": 4
 },
 "nbformat": 4,
 "nbformat_minor": 2
}
